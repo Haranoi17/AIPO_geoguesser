{
 "cells": [
  {
   "cell_type": "code",
   "execution_count": 44,
   "id": "a0de383b",
   "metadata": {},
   "outputs": [
    {
     "name": "stdout",
     "output_type": "stream",
     "text": [
      "Requirement already satisfied: imutils in d:\\programs\\lib\\site-packages (0.5.4)\n",
      "Note: you may need to restart the kernel to use updated packages.\n"
     ]
    }
   ],
   "source": [
    "pip install imutils"
   ]
  },
  {
   "cell_type": "code",
   "execution_count": 45,
   "id": "26941793",
   "metadata": {
    "scrolled": true
   },
   "outputs": [
    {
     "name": "stdout",
     "output_type": "stream",
     "text": [
      "Requirement already satisfied: pytesseract in d:\\programs\\lib\\site-packages (0.3.9)\n",
      "Requirement already satisfied: packaging>=21.3 in d:\\programs\\lib\\site-packages (from pytesseract) (21.3)\n",
      "Requirement already satisfied: Pillow>=8.0.0 in d:\\programs\\lib\\site-packages (from pytesseract) (8.4.0)\n",
      "Requirement already satisfied: pyparsing!=3.0.5,>=2.0.2 in d:\\programs\\lib\\site-packages (from packaging>=21.3->pytesseract) (3.0.4)\n",
      "Note: you may need to restart the kernel to use updated packages.\n"
     ]
    }
   ],
   "source": [
    "pip install pytesseract"
   ]
  },
  {
   "cell_type": "code",
   "execution_count": 1,
   "id": "52f03631",
   "metadata": {},
   "outputs": [],
   "source": [
    "from imutils.object_detection import non_max_suppression\n",
    "import numpy as np\n",
    "import cv2\n",
    "import sys\n",
    "import pytesseract\n",
    "from PIL import Image\n",
    "import zipfile"
   ]
  },
  {
   "cell_type": "code",
   "execution_count": 2,
   "id": "b3466c26",
   "metadata": {},
   "outputs": [],
   "source": [
    "with zipfile.ZipFile('Tesseract-OCR.zip', 'r') as zip_ref:\n",
    "    zip_ref.extractall('.')"
   ]
  },
  {
   "cell_type": "code",
   "execution_count": 2,
   "id": "6936f060",
   "metadata": {},
   "outputs": [],
   "source": [
    "pytesseract.pytesseract.tesseract_cmd = r'.\\Tesseract-OCR\\tesseract.exe'"
   ]
  },
  {
   "cell_type": "code",
   "execution_count": 16,
   "id": "78203fb5",
   "metadata": {},
   "outputs": [],
   "source": [
    "def getTextFromImage(image, net):\n",
    "#     orig = image.copy()\n",
    "#     (H, W) = image.shape[:2]\n",
    "\n",
    "#     (newW, newH) = (320, 320)\n",
    "#     rW = W / float(newW)\n",
    "#     rH = H / float(newH)\n",
    "\n",
    "#     image = cv2.resize(image, (newW, newH))\n",
    "#     (H, W) = image.shape[:2]\n",
    "\n",
    "#     layerNames = [\n",
    "#         \"feature_fusion/Conv_7/Sigmoid\",\n",
    "#         \"feature_fusion/concat_3\"]\n",
    "\n",
    "#     blob = cv2.dnn.blobFromImage(image, 1.0, (W, H),(123.68, 116.78, 103.94), swapRB=True, crop=False)\n",
    "#     net.setInput(blob)\n",
    "#     (scores, geometry) = net.forward(layerNames)\n",
    "\n",
    "#     (numRows, numCols) = scores.shape[2:4]\n",
    "#     rects = []\n",
    "#     confidences = []\n",
    "\n",
    "#     # loop over the number of rows\n",
    "#     for y in range(0, numRows):\n",
    "#         scoresData = scores[0, 0, y]\n",
    "#         xData0 = geometry[0, 0, y]\n",
    "#         xData1 = geometry[0, 1, y]\n",
    "#         xData2 = geometry[0, 2, y]\n",
    "#         xData3 = geometry[0, 3, y]\n",
    "#         anglesData = geometry[0, 4, y]\n",
    "\n",
    "#         for x in range(0, numCols):\n",
    "#             if scoresData[x] < 0.3:\n",
    "#                 continue\n",
    "\n",
    "#             (offsetX, offsetY) = (x * 4.0, y * 4.0)\n",
    "#             angle = anglesData[x]\n",
    "#             cos = np.cos(angle)\n",
    "#             sin = np.sin(angle)\n",
    "\n",
    "#             h = xData0[x] + xData2[x]\n",
    "#             w = xData1[x] + xData3[x]\n",
    "\n",
    "#             endX = int(offsetX + (cos * xData1[x]) + (sin * xData2[x]))\n",
    "#             endY = int(offsetY - (sin * xData1[x]) + (cos * xData2[x]))\n",
    "#             startX = int(endX - w)\n",
    "#             startY = int(endY - h)\n",
    "\n",
    "#             rects.append((startX, startY, endX, endY))\n",
    "#             confidences.append(scoresData[x])\n",
    "\n",
    "#     boxes = non_max_suppression(np.array(rects), probs=confidences)\n",
    "    text = \"\"\n",
    "\n",
    "#     for (startX, startY, endX, endY) in boxes:\n",
    "#         startX = int(startX * rW)\n",
    "#         startY = int(startY * rH)\n",
    "#         endX = int(endX * rW)\n",
    "#         endY = int(endY * rH)\n",
    "\n",
    "#         im = cv2.rectangle(orig, (startX, startY), (endX, endY), (0, 255, 0), 2)\n",
    "#         im = im[startY:endY, startX:endX]\n",
    "    image = cv2.cvtColor(image, cv2.COLOR_BGR2GRAY)\n",
    "    # cv2.imwrite(\"nazwa_gray.png\", image)\n",
    "\n",
    "    # ret,image = cv2.threshold(np.array(image), 125, 255, cv2.THRESH_BINARY + cv2.THRESH_OTSU)\n",
    "    # cv2.imwrite(\"nazwa2.png\", image)\n",
    "\n",
    "    image = Image.fromarray(image.astype(np.uint8))\n",
    "    for psm in range(6,13+1):\n",
    "        config = '--oem 3 --psm %d' % psm\n",
    "        text = pytesseract.image_to_string(image, config=config)\n",
    "        print(text)\n",
    "    return text"
   ]
  },
  {
   "cell_type": "code",
   "execution_count": 5,
   "id": "ad0c030c",
   "metadata": {},
   "outputs": [],
   "source": [
    "def getTextFromVideo(filename):\n",
    "    video = cv2.VideoCapture(filename)\n",
    "    frame_width = int(video.get(3))\n",
    "    frame_height = int(video.get(4))\n",
    "    frame_size = (frame_width,frame_height)\n",
    "    video.set(cv2.CAP_PROP_FPS, 1) \n",
    "    # load the pre-trained EAST text detector\n",
    "    print(\"[INFO] loading EAST text detector...\")\n",
    "    net = cv2.dnn.readNet('frozen_east_text_detection.pb')\n",
    "    output = \"\"\n",
    "    while(video.isOpened()):\n",
    "        ret, frame = video.read()\n",
    "        if ret == True:\n",
    "            output += getTextFromImage(frame,net)   \n",
    "        else:\n",
    "            break\n",
    "\n",
    "    video.release()\n",
    "    return output"
   ]
  },
  {
   "cell_type": "code",
   "execution_count": 9,
   "id": "ec4d06fd",
   "metadata": {
    "scrolled": false
   },
   "outputs": [
    {
     "name": "stdout",
     "output_type": "stream",
     "text": [
      "[INFO] loading EAST text detector...\n"
     ]
    }
   ],
   "source": [
    "text = getTextFromVideo('2s.mp4')"
   ]
  },
  {
   "cell_type": "code",
   "execution_count": 17,
   "id": "21196901",
   "metadata": {},
   "outputs": [
    {
     "name": "stdout",
     "output_type": "stream",
     "text": [
      "3-THH-06\n",
      "\n",
      "3-THH-06 }\n",
      "\n",
      "[3 THH-06]\n",
      "\n",
      "3THH-06]\n",
      "\n",
      "3THH-06]\n",
      "\n",
      "}\n",
      "\n",
      "}\n",
      "\n",
      "[3 THH-06]\n",
      "\n"
     ]
    }
   ],
   "source": [
    "# text = getTextFromImage(cv2.imread('nazwa.png'), None)\n",
    "text = getTextFromImage(cv2.imread('thresh.png'), None)"
   ]
  },
  {
   "cell_type": "code",
   "execution_count": 15,
   "id": "1662551b",
   "metadata": {},
   "outputs": [
    {
     "name": "stdout",
     "output_type": "stream",
     "text": [
      "}\n",
      "\n"
     ]
    }
   ],
   "source": [
    "print(text)"
   ]
  },
  {
   "cell_type": "code",
   "execution_count": null,
   "id": "286b4450",
   "metadata": {},
   "outputs": [],
   "source": []
  }
 ],
 "metadata": {
  "kernelspec": {
   "display_name": "Python 3.10.4 64-bit",
   "language": "python",
   "name": "python3"
  },
  "language_info": {
   "codemirror_mode": {
    "name": "ipython",
    "version": 3
   },
   "file_extension": ".py",
   "mimetype": "text/x-python",
   "name": "python",
   "nbconvert_exporter": "python",
   "pygments_lexer": "ipython3",
   "version": "3.10.4"
  },
  "vscode": {
   "interpreter": {
    "hash": "1dd0381d1fc2fb15dda0c9601b2866ce5a466e54b3f253773e8ed097d13694fa"
   }
  }
 },
 "nbformat": 4,
 "nbformat_minor": 5
}
